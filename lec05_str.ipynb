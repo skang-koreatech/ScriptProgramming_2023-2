{
 "cells": [
  {
   "cell_type": "markdown",
   "metadata": {},
   "source": [
    "- str index"
   ]
  },
  {
   "cell_type": "code",
   "execution_count": 1,
   "metadata": {},
   "outputs": [
    {
     "name": "stdout",
     "output_type": "stream",
     "text": [
      "Wloe"
     ]
    }
   ],
   "source": [
    "s = \"Welcome\"\n",
    "for i in range(0, len(s), 2):\n",
    "    print(s[i], end = '')"
   ]
  },
  {
   "cell_type": "markdown",
   "metadata": {},
   "source": [
    "- compare strings"
   ]
  },
  {
   "cell_type": "code",
   "execution_count": 2,
   "metadata": {},
   "outputs": [
    {
     "name": "stdout",
     "output_type": "stream",
     "text": [
      "첫 번째 문자열을 입력하세요: abc\n",
      "두 번째 문자열을 입력하세요: def\n",
      "두 문자열의 순서는 다음과 같습니다:  abc def\n"
     ]
    }
   ],
   "source": [
    "s1 = input(\"첫 번째 문자열을 입력하세요: \")\n",
    "s2 = input(\"두 번째 문자열을 입력하세요: \")\n",
    "if s2 < s1:\n",
    "    s1, s2 = s2, s1\n",
    "\n",
    "print(\"두 문자열의 순서는 다음과 같습니다: \", s1, s2)"
   ]
  },
  {
   "cell_type": "markdown",
   "metadata": {},
   "source": [
    "- Palindrome"
   ]
  },
  {
   "cell_type": "code",
   "execution_count": 3,
   "metadata": {},
   "outputs": [
    {
     "name": "stdout",
     "output_type": "stream",
     "text": [
      "문자열을 입력하세요: noon\n",
      "noon 은/는 회문입니다.\n"
     ]
    }
   ],
   "source": [
    "def main():\n",
    "    # 사용자로부터 문자열을 입력받는다.\n",
    "    s = input(\"문자열을 입력하세요: \").strip()\n",
    "\n",
    "    if isPalindrome(s):\n",
    "      print(s, \"은/는 회문입니다.\")\n",
    "    else:\n",
    "      print(s, \"은/는 회문이 아닙니다.\")\n",
    "\n",
    "# 문자열이 회문인지 검사한다.\n",
    "def isPalindrome(s):\n",
    "    # 문자열의 첫 문자 인덱스\n",
    "    low = 0\n",
    "\n",
    "    # 문자열의 마지막 문자 인덱스\n",
    "    high = len(s) - 1\n",
    "\n",
    "    while low < high:\n",
    "        if s[low] != s[high]:\n",
    "            return False # 입력한 문자열은 회문이 아니다.\n",
    "\n",
    "        low += 1\n",
    "        high -= 1\n",
    "\n",
    "    return True # 입력한 문자열은 회문이다.\n",
    "\n",
    "main() # main 함수를 호출한다."
   ]
  },
  {
   "cell_type": "markdown",
   "metadata": {},
   "source": [
    "- Palindrome 2"
   ]
  },
  {
   "cell_type": "code",
   "execution_count": 4,
   "metadata": {},
   "outputs": [
    {
     "name": "stdout",
     "output_type": "stream",
     "text": [
      "boon\n",
      "noob\n",
      "회문 아님\n"
     ]
    }
   ],
   "source": [
    "def isPalindrome(s):\n",
    "    if s == s[::-1]:\n",
    "        print(s)\n",
    "        print(s[::-1])\n",
    "        return True\n",
    "    else:\n",
    "        print(s)\n",
    "        print(s[::-1])\n",
    "        return False\n",
    "\n",
    "if isPalindrome(\"boon\"):\n",
    "    print(\"회문\")    \n",
    "else:\n",
    "    print(\"회문 아님\")"
   ]
  },
  {
   "cell_type": "code",
   "execution_count": null,
   "metadata": {},
   "outputs": [],
   "source": []
  }
 ],
 "metadata": {
  "kernelspec": {
   "display_name": "Python 3",
   "language": "python",
   "name": "python3"
  },
  "language_info": {
   "codemirror_mode": {
    "name": "ipython",
    "version": 3
   },
   "file_extension": ".py",
   "mimetype": "text/x-python",
   "name": "python",
   "nbconvert_exporter": "python",
   "pygments_lexer": "ipython3",
   "version": "3.8.5"
  }
 },
 "nbformat": 4,
 "nbformat_minor": 4
}
