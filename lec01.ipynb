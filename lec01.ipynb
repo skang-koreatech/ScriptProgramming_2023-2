{
 "cells": [
  {
   "cell_type": "code",
   "execution_count": 2,
   "metadata": {},
   "outputs": [
    {
     "name": "stdout",
     "output_type": "stream",
     "text": [
      "Hello world\n"
     ]
    }
   ],
   "source": [
    "print(\"Hello world\")"
   ]
  },
  {
   "cell_type": "code",
   "execution_count": 3,
   "metadata": {},
   "outputs": [
    {
     "name": "stdout",
     "output_type": "stream",
     "text": [
      "파이썬에 오신 것을 환영합니다.\n",
      "파이썬은 재미있습니다.\n"
     ]
    }
   ],
   "source": [
    "print(\"파이썬에 오신 것을 환영합니다.\")\n",
    "print(\"파이썬은 재미있습니다.\")"
   ]
  },
  {
   "cell_type": "code",
   "execution_count": 4,
   "metadata": {},
   "outputs": [
    {
     "name": "stdout",
     "output_type": "stream",
     "text": [
      "0.39759036144578314\n"
     ]
    }
   ],
   "source": [
    "# 연산식을 계산한다.\n",
    "print((10.5 + 2 * 3) / (45 - 3.5))"
   ]
  },
  {
   "cell_type": "code",
   "execution_count": 5,
   "metadata": {},
   "outputs": [
    {
     "name": "stdout",
     "output_type": "stream",
     "text": [
      "화씨 35도는 섭씨 \n",
      "1.6666666666666667\n"
     ]
    }
   ],
   "source": [
    "# 화씨를 섭씨로 변환한다.\n",
    "print(\"화씨 35도는 섭씨 \")\n",
    "print(5 / 9 * (35 - 32))"
   ]
  },
  {
   "cell_type": "code",
   "execution_count": 6,
   "metadata": {},
   "outputs": [
    {
     "name": "stdout",
     "output_type": "stream",
     "text": [
      "반지름을 입력하세요: 10\n",
      "반지름이 10 인 원의 넓이는 314.159 입니다.\n"
     ]
    }
   ],
   "source": [
    "# 사용자로부터 반지름 값을 입력받는다.\n",
    "radius = eval(input(\"반지름을 입력하세요: \"))\n",
    "\n",
    "# 넓이를 계산한다.\n",
    "area = radius * radius * 3.14159\n",
    "\n",
    "# 결과를 출력한다.\n",
    "print(\"반지름이\", radius, \"인 원의 넓이는\", area, \"입니다.\")\n"
   ]
  },
  {
   "cell_type": "code",
   "execution_count": 7,
   "metadata": {},
   "outputs": [
    {
     "name": "stdout",
     "output_type": "stream",
     "text": [
      "첫 번째 숫자를 입력하세요: 3\n",
      "두 번째 숫자를 입력하세요: 4\n",
      "세 번째 숫자를 입력하세요: 5\n",
      "3 4 5 의 평균은 4.0 입니다.\n"
     ]
    }
   ],
   "source": [
    "# 사용자로부터 세 개의 숫자를 입력받는다.\n",
    "number1 = eval(input(\"첫 번째 숫자를 입력하세요: \"))\n",
    "number2 = eval(input(\"두 번째 숫자를 입력하세요: \"))\n",
    "number3 = eval(input(\"세 번째 숫자를 입력하세요: \"))\n",
    "\n",
    "# 평균을 계산한다.\n",
    "average = (number1 + number2 + number3) / 3\n",
    "\n",
    "# 결과를 출력한다.\n",
    "print(number1, number2, number3,\n",
    "    \"의 평균은\", average, \"입니다.\")"
   ]
  },
  {
   "cell_type": "code",
   "execution_count": 8,
   "metadata": {},
   "outputs": [
    {
     "name": "stdout",
     "output_type": "stream",
     "text": [
      "세 개의 숫자를 콤마(,)로 구분하여 입력하세요: 1,2,3\n",
      "1 2 3 의 평균은 2.0 입니다.\n"
     ]
    }
   ],
   "source": [
    "# 사용자로부터 세 개의 숫자를 입력받는다.\n",
    "number1, number2, number3 = eval(input(\n",
    "  \"세 개의 숫자를 콤마(,)로 구분하여 입력하세요: \"))\n",
    "\n",
    "# 평균을 계산한다.\n",
    "average = (number1 + number2 + number3) / 3\n",
    "\n",
    "# 결과를 출력한다.\n",
    "print(number1, number2, number3,\n",
    "    \"의 평균은\", average, \"입니다.\")\n"
   ]
  },
  {
   "cell_type": "code",
   "execution_count": 9,
   "metadata": {},
   "outputs": [
    {
     "name": "stdout",
     "output_type": "stream",
     "text": [
      "초 값을 정수로 입력하세요: 1000\n",
      "1000 초는 16 분과 40 초입니다.\n"
     ]
    }
   ],
   "source": [
    "# 사용자로부터 입력을 받는다.\n",
    "seconds = eval(input(\"초 값을 정수로 입력하세요: \"))\n",
    "\n",
    "# 분 값과 나머지 초 값을 얻는다.\n",
    "minutes = seconds // 60     # 초 단위의 시간에서 분 값을 계산한다.\n",
    "remainingSeconds = seconds % 60   # 나머지 초 값을 계산한다.\n",
    "print(seconds, \"초는\", minutes,\n",
    "  \"분과\", remainingSeconds, \"초입니다.\")"
   ]
  },
  {
   "cell_type": "code",
   "execution_count": 10,
   "metadata": {},
   "outputs": [
    {
     "name": "stdout",
     "output_type": "stream",
     "text": [
      "현재 시간은6:18:31 GMT 입니다.\n"
     ]
    }
   ],
   "source": [
    "import time\n",
    "\n",
    "currentTime = time.time() # 현재 시간을 얻어온다.\n",
    "\n",
    "# 1970년 1월 1일 자정 이후로의 전체 초 값을 얻어온다.\n",
    "totalSeconds = int(currentTime)\n",
    "\n",
    "# 현재 시간의 초 값을 계산한다.\n",
    "currentSecond = totalSeconds % 60\n",
    "\n",
    "# 전체 분 값을 계산한다.\n",
    "totalMinutes = totalSeconds // 60\n",
    "\n",
    "# 현재 시간의 분 값을 계산한다.\n",
    "currentMinute = totalMinutes % 60\n",
    "\n",
    "# 전체 시 값을 계산한다.\n",
    "totalHours = totalMinutes // 60\n",
    "\n",
    "# 현재 시간의 시 값을 계산한다.\n",
    "currentHour = totalHours % 24\n",
    "\n",
    "# 결과를 출력한다.\n",
    "print(\"현재 시간은\" + str(currentHour) + \":\"\n",
    "    + str(currentMinute) + \":\" + str(currentSecond) + \" GMT 입니다.\")\n"
   ]
  },
  {
   "cell_type": "code",
   "execution_count": 11,
   "metadata": {},
   "outputs": [
    {
     "name": "stdout",
     "output_type": "stream",
     "text": [
      "exp(1.0) = 2.718281828459045\n",
      "log(3.78) = 1.0\n",
      "log10(10, 10) = 1.0\n",
      "sqrt(4.0) = 2.0\n",
      "sin(PI / 2) = 1.0\n",
      "cos(PI / 2) = 6.123233995736766e-17\n",
      "tan(PI / 2) = 1.633123935319537e+16\n",
      "degrees(1.57) = 89.95437383553924\n",
      "radians(90) = 1.5707963267948966\n"
     ]
    }
   ],
   "source": [
    "import math # 수학 함수를 사용하기 위해 math 모듈을 임포트한다.\n",
    "\n",
    "# 수학 함수를 테스트한다.\n",
    "print(\"exp(1.0) =\", math.exp(1))\n",
    "print(\"log(3.78) =\", math.log(math.e))\n",
    "print(\"log10(10, 10) =\", math.log(10, 10))\n",
    "print(\"sqrt(4.0) =\", math.sqrt(4.0))\n",
    "\n",
    "# 삼각함수를 테스트한다.\n",
    "print(\"sin(PI / 2) =\", math.sin(math.pi / 2))\n",
    "print(\"cos(PI / 2) =\", math.cos(math.pi / 2))\n",
    "print(\"tan(PI / 2) =\", math.tan(math.pi / 2))\n",
    "print(\"degrees(1.57) =\", math.degrees(1.57))\n",
    "print(\"radians(90) =\", math.radians(90))"
   ]
  },
  {
   "cell_type": "code",
   "execution_count": 12,
   "metadata": {},
   "outputs": [
    {
     "name": "stdout",
     "output_type": "stream",
     "text": [
      "세 점을 입력하세요: 1,1,5,5,8,6\n",
      "세 내각은  9.46 153.43 17.1 입니다.\n"
     ]
    }
   ],
   "source": [
    "import math\n",
    "\n",
    "x1, y1, x2, y2, x3, y3 = eval(input(\"세 점을 입력하세요: \"))\n",
    "\n",
    "a = math.sqrt((x2 - x3) * (x2 - x3) + (y2 - y3) * (y2 - y3))\n",
    "b = math.sqrt((x1 - x3) * (x1 - x3) + (y1 - y3) * (y1 - y3))\n",
    "c = math.sqrt((x1 - x2) * (x1 - x2) + (y1 - y2) * (y1 - y2))\n",
    "\n",
    "A = math.degrees(math.acos((a * a - b * b - c * c) / (-2 * b * c)))\n",
    "B = math.degrees(math.acos((b * b - a * a - c * c) / (-2 * a * c)))\n",
    "C = math.degrees(math.acos((c * c - b * b - a * a) / (-2 * a * b)))\n",
    "\n",
    "print(\"세 내각은 \", round(A * 100) / 100.0,\n",
    "    round(B * 100) / 100.0, round(C * 100) / 100.0, \"입니다.\")\n"
   ]
  },
  {
   "cell_type": "code",
   "execution_count": null,
   "metadata": {},
   "outputs": [],
   "source": []
  }
 ],
 "metadata": {
  "kernelspec": {
   "display_name": "Python 3",
   "language": "python",
   "name": "python3"
  },
  "language_info": {
   "codemirror_mode": {
    "name": "ipython",
    "version": 3
   },
   "file_extension": ".py",
   "mimetype": "text/x-python",
   "name": "python",
   "nbconvert_exporter": "python",
   "pygments_lexer": "ipython3",
   "version": "3.6.10"
  }
 },
 "nbformat": 4,
 "nbformat_minor": 4
}
