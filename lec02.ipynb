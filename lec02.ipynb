{
 "cells": [
  {
   "cell_type": "code",
   "execution_count": 5,
   "metadata": {},
   "outputs": [
    {
     "name": "stdout",
     "output_type": "stream",
     "text": [
      "Input radius: -1\n",
      "wrong input\n"
     ]
    }
   ],
   "source": [
    "import math\n",
    "\n",
    "radius = int(input(\"Input radius: \"))\n",
    "\n",
    "if radius < 0:\n",
    "    print(\"wrong input\")\n",
    "else:\n",
    "    area = radius * radius * math.pi\n",
    "    print(\"Area is\", area)\n"
   ]
  },
  {
   "cell_type": "code",
   "execution_count": 6,
   "metadata": {},
   "outputs": [
    {
     "name": "stdout",
     "output_type": "stream",
     "text": [
      "B\n"
     ]
    }
   ],
   "source": [
    "i = 1\n",
    "j = 2\n",
    "k = 3\n",
    "\n",
    "if i > j:\n",
    "    if i > k:\n",
    "        print('A')\n",
    "else:\n",
    "    print('B')"
   ]
  },
  {
   "cell_type": "code",
   "execution_count": 7,
   "metadata": {},
   "outputs": [],
   "source": [
    "i = 1\n",
    "j = 2\n",
    "k = 3\n",
    "\n",
    "if i > j:\n",
    "    if i > k:\n",
    "        print('A')\n",
    "    else:\n",
    "        print('B')"
   ]
  },
  {
   "cell_type": "code",
   "execution_count": 8,
   "metadata": {},
   "outputs": [
    {
     "name": "stdout",
     "output_type": "stream",
     "text": [
      "8 + 2은/는 얼마입니까? 9\n",
      "8 + 2 = 9 은/는 False\n"
     ]
    }
   ],
   "source": [
    "import random\n",
    "\n",
    "# 랜덤 숫자를 생성한다.\n",
    "number1 = random.randint(0, 9)\n",
    "number2 = random.randint(0, 9)\n",
    "\n",
    "# 사용자로부터 답을 입력받는다.\n",
    "answer = eval(input(str(number1) + \" + \" + str(number2) + \"은/는 얼마입니까? \"))\n",
    "\n",
    "# 결과를 출력한다.\n",
    "print(number1, \"+\", number2, \"=\", answer,\n",
    "    \"은/는\", number1 + number2 == answer)"
   ]
  },
  {
   "cell_type": "code",
   "execution_count": 9,
   "metadata": {},
   "outputs": [
    {
     "name": "stdout",
     "output_type": "stream",
     "text": [
      "정수를 입력하세요: 6\n",
      "HiEven\n"
     ]
    }
   ],
   "source": [
    "number = eval(input(\"정수를 입력하세요: \"))\n",
    "\n",
    "if number % 5 == 0:\n",
    "    print(\"HiFive\")\n",
    "\n",
    "if number % 2 == 0:\n",
    "    print(\"HiEven\")"
   ]
  },
  {
   "cell_type": "code",
   "execution_count": 10,
   "metadata": {},
   "outputs": [
    {
     "name": "stdout",
     "output_type": "stream",
     "text": [
      "연도를 입력하세요: 2000\n",
      "용\n"
     ]
    }
   ],
   "source": [
    "year = eval(input(\"연도를 입력하세요: \"))\n",
    "zodiacYear = year % 12\n",
    "if zodiacYear == 0:\n",
    "    print(\"원숭이\")\n",
    "elif zodiacYear == 1:\n",
    "    print(\"닭\")\n",
    "elif zodiacYear == 2:\n",
    "    print(\"개\")\n",
    "elif zodiacYear == 3:\n",
    "    print(\"돼지\")\n",
    "elif zodiacYear == 4:\n",
    "    print(\"쥐\")\n",
    "elif zodiacYear == 5:\n",
    "    print(\"소\")\n",
    "elif zodiacYear == 6:\n",
    "    print(\"범\")\n",
    "elif zodiacYear == 7:\n",
    "    print(\"토끼\")\n",
    "elif zodiacYear == 8:\n",
    "    print(\"용\")\n",
    "elif zodiacYear == 9:\n",
    "    print(\"뱀\")\n",
    "elif zodiacYear == 10:\n",
    "    print(\"말\")\n",
    "else:\n",
    "    print(\"양\")"
   ]
  },
  {
   "cell_type": "code",
   "execution_count": 11,
   "metadata": {},
   "outputs": [
    {
     "name": "stdout",
     "output_type": "stream",
     "text": [
      "몸무게(kg)를 입력하세요: 60\n",
      "키(m)를 입력하세요: 1.7\n",
      "BMI는 20.76 입니다.\n",
      "정상\n"
     ]
    }
   ],
   "source": [
    "# 사용자로부터 킬로그램 단위의 몸무게를 입력받는다.\n",
    "weight = eval(input(\"몸무게(kg)를 입력하세요: \"))\n",
    "\n",
    "# 사용자로부터 미터 단위의 키를 입력받는다.\n",
    "height = eval(input(\"키(m)를 입력하세요: \"))\n",
    "\n",
    "# BMI를 계산한다.\n",
    "bmi = weight / (height * height)\n",
    "\n",
    "# 결과를 출력한다.\n",
    "print(\"BMI는\", format(bmi, \".2f\"), \"입니다.\")\n",
    "if bmi < 18.5:\n",
    "    print(\"저체중\")\n",
    "elif bmi < 25:\n",
    "    print(\"정상\")\n",
    "elif bmi < 30:\n",
    "    print(\"과체중\")\n",
    "else:\n",
    "    print(\"비만\")"
   ]
  },
  {
   "cell_type": "code",
   "execution_count": null,
   "metadata": {},
   "outputs": [],
   "source": []
  }
 ],
 "metadata": {
  "kernelspec": {
   "display_name": "Python 3",
   "language": "python",
   "name": "python3"
  },
  "language_info": {
   "codemirror_mode": {
    "name": "ipython",
    "version": 3
   },
   "file_extension": ".py",
   "mimetype": "text/x-python",
   "name": "python",
   "nbconvert_exporter": "python",
   "pygments_lexer": "ipython3",
   "version": "3.8.5"
  }
 },
 "nbformat": 4,
 "nbformat_minor": 4
}
