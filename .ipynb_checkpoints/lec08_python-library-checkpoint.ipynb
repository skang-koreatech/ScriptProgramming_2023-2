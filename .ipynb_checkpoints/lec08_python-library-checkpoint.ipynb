{
 "cells": [
  {
   "cell_type": "markdown",
   "metadata": {},
   "source": [
    "# 스크립트 프로그래밍"
   ]
  },
  {
   "cell_type": "markdown",
   "metadata": {},
   "source": [
    "## 데이터분석/머신러닝에 많이 사용되는 파이썬 라이브러리 소개"
   ]
  },
  {
   "cell_type": "markdown",
   "metadata": {},
   "source": [
    "### Acknowledgement\n",
    "#### 이 자료는 다음 서적의 내용을 바탕으로 작성되었음\n",
    "\n",
    "- 예제 중심의 파이썬 입문. 인포앤북\n",
    "- 파이썬 라이브러리를 활용한 데이터 분석. 한빛미디어"
   ]
  },
  {
   "cell_type": "markdown",
   "metadata": {},
   "source": [
    "### 데이터분석과 파이썬\n",
    "\n",
    "- 파이썬은 데이터 과학 분야를 위한 대표적인 프로그래밍 언어\n",
    "  - 데이터 분석과 대화형(인터랙티브) 컴퓨팅, 데이터 시각화에서 자수 사용하는 R, MATLAB, SAS, Stata 같은 오픈소스나 상용 언어, 도구와 비교해도 뒤지지 않음\n",
    "  \n",
    "- 범용 프로그래밍 언어의 장점은 물론 MATLAB과 R 같은 특정 분야를 위한 스크립팅 언어의 편리함을 갖고 있음\n",
    "\n",
    "- 데이터 적재, 시각화, 통계, 자연어 처리, 이미지 처리 등에 필요한 라이브러리 제공\n",
    "\n",
    "- 터미널이나 주피터 노트북 같은 도구로 대화하듯 프로그래밍 가능\n",
    " "
   ]
  },
  {
   "cell_type": "markdown",
   "metadata": {},
   "source": [
    "### 대표적인 파이썬 라이브러리\n",
    "- NumPy\n",
    "- pandas\n",
    "- matplotlib\n",
    "- SciPy\n",
    "- scikit-learn\n",
    "\n",
    "#### Anaconda\n",
    "- 여러 가지 유용한 패키지를 모아놓은 파이썬 배포판인 Anaconda를 설치하면 바로 위 라이브러리를 사용할 수 있음\n"
   ]
  },
  {
   "cell_type": "markdown",
   "metadata": {},
   "source": [
    "### NumPy\n",
    "\n",
    "- Numerical Python의 줄임말\n",
    "- 파이썬으로 과학 계산을 하려면 꼭 필요한 라이브러리\n",
    "- scikit-learn에서 NumPy 배열은 기본 데이터 구조\n",
    "  - scikit-learn은 NumPy 배열 형태의 데이터를 입력으로 받음 \n",
    "  - 사용할 데이터는 모두 NumPy 배열로 변환되어야 함\n",
    "\n",
    "#### NumPy의 주요 기능\n",
    "- 빠르고 효율적인 다차원 배열 객체 ndarray\n",
    "- 배열 원소를 다루거나 배열 간의 수학 계산을 수행하는 함수\n",
    "- 디스크로부터 배열 기반의 데이터를 읽거나 쓸 수 있는 도구\n",
    "- 선형 대수 연산, 푸리에 변환 같은 고수준 수학 함수와 유사 난수 생성기\n",
    "- 파이썬 확장과 C, C++ 코드에서 NumPy의 자료구조에 접근하고 계산 기능을 사용할 수 있도록 해주는 C API"
   ]
  },
  {
   "cell_type": "code",
   "execution_count": 3,
   "metadata": {},
   "outputs": [
    {
     "name": "stdout",
     "output_type": "stream",
     "text": [
      "[[1 2 3]\n",
      " [4 5 6]]\n",
      "x: \n",
      "[[1 2 3]\n",
      " [4 5 6]]\n"
     ]
    }
   ],
   "source": [
    "import numpy as np\n",
    "\n",
    "x = np.array([[1,2,3], [4,5,6]])\n",
    "\n",
    "print(x)\n",
    "\n",
    "print('x: \\n{}'.format(x))"
   ]
  },
  {
   "cell_type": "code",
   "execution_count": 2,
   "metadata": {},
   "outputs": [
    {
     "name": "stdout",
     "output_type": "stream",
     "text": [
      "[[1, 2, 3], [4, 5, 6]]\n"
     ]
    }
   ],
   "source": [
    "y = [[1,2,3], [4,5,6]]\n",
    "print(y)"
   ]
  },
  {
   "cell_type": "markdown",
   "metadata": {},
   "source": [
    "### pandas\n",
    "\n",
    "- 데이터 처리와 분석을 위한 파이썬 라이브러리\n",
    "  - 구조화된 데이터나 표 형식의 데이터를 빠르고 쉽고 표현적으로 다루도록 설계된 고수준의 자료구조와 함수를 제공\n",
    "  - 2010년 처음 개발되어 파이썬으로 생산적이고 강력한 데이터 분석 환경을 구성하는 데 도움을 주고 있음\n",
    "  \n",
    "- pandas의 주된 자료 구조: DataFrame (표 형태), Series (1차원 배열)\n",
    "  - DataFrame: R의 data.frame을 본떠서 설계. 엑셀의 스프레드시트와 비슷한 테이블(표) 형식 데이터 구조\n",
    "\n",
    "- pandas는 테이블을 수정하고 조작하는 다양한 기능을 제공\n",
    "  - SQL처럼 테이블에 쿼리나 조인을 수행 할 수 있음\n",
    "\n",
    "- NumPy는 원소의 타입이 동일해야 하지만 pandas는 각 열의 타입이 달라도 데이터 처리 가능\n",
    "  - 정수, 날짜, 부동 소수점, 문자열\n",
    "\n",
    "- SQL, 엑셀 파일, CSV파일 같은 다양한 파일과 데이터베이스에서 데이터를 읽어 들일 수 있는 것이 pandas의 유용한 기능\n"
   ]
  },
  {
   "cell_type": "markdown",
   "metadata": {},
   "source": [
    "#### 파이썬의 csv 모듈을 이용하여 csv 파일을 읽고 내용을 출력하는 것과 pandas를 이용하여 csv 파일을 읽고 내용을 출력하는 것 비교"
   ]
  },
  {
   "cell_type": "code",
   "execution_count": 20,
   "metadata": {},
   "outputs": [
    {
     "name": "stdout",
     "output_type": "stream",
     "text": [
      "<_csv.reader object at 0x000001B9279C74C0>\n",
      "['지점', '일시', '평균기온(°C)', '최저기온(°C)', '최고기온(°C)']\n",
      "['119', '2019-10-01', '22', '15.7', '27.4']\n",
      "['119', '2019-10-02', '21.9', '20.4', '23.8']\n",
      "['119', '2019-10-03', '22.8', '19.9', '27.8']\n",
      "['119', '2019-10-04', '21.9', '17.8', '26.9']\n",
      "['119', '2019-10-05', '18.9', '15.7', '22']\n",
      "['119', '2019-10-06', '18', '14', '22']\n",
      "['119', '2019-10-07', '14.8', '13.4', '17.9']\n",
      "['119', '2019-10-08', '15', '10.7', '20.6']\n",
      "['119', '2019-10-09', '12.8', '6.4', '19.6']\n",
      "['119', '2019-10-10', '14.9', '9.5', '20.2']\n",
      "['119', '2019-10-11', '18.8', '12.1', '24.8']\n",
      "['119', '2019-10-12', '18.3', '14.1', '23.3']\n",
      "['119', '2019-10-13', '16.9', '12.5', '22.9']\n",
      "['119', '2019-10-14', '14', '8.5', '19.4']\n",
      "['119', '2019-10-15', '13.3', '7.3', '19.6']\n",
      "['119', '2019-10-16', '13.9', '7.9', '20']\n",
      "['119', '2019-10-17', '14.6', '9.1', '20.6']\n",
      "['119', '2019-10-18', '16.7', '10', '21.9']\n",
      "['119', '2019-10-19', '16', '10.4', '22.2']\n",
      "['119', '2019-10-20', '15.1', '10.8', '21.7']\n",
      "['119', '2019-10-21', '16.1', '9.5', '23.9']\n",
      "['119', '2019-10-22', '16.6', '11.1', '23']\n",
      "['119', '2019-10-23', '17', '12.4', '20']\n",
      "['119', '2019-10-24', '18.6', '14.1', '23.3']\n",
      "['119', '2019-10-25', '16.6', '10.7', '21.7']\n",
      "['119', '2019-10-26', '9.8', '6.4', '13.9']\n",
      "['119', '2019-10-27', '10.2', '3', '16.8']\n",
      "['119', '2019-10-28', '12.4', '6.3', '17.4']\n",
      "['119', '2019-10-29', '12.6', '8.2', '18.1']\n",
      "['119', '2019-10-30', '10.3', '3.3', '17.1']\n",
      "['119', '2019-10-31', '14.1', '7.3', '20.4']\n"
     ]
    }
   ],
   "source": [
    "# csv 모듈 이용\n",
    "\n",
    "import csv\n",
    "\n",
    "f = open('month_temp.csv', 'r', encoding='utf-8') # month_temp.csv 파일을 읽기용으로 열기\n",
    "lines = csv.reader(f)\n",
    "\n",
    "print(lines)\n",
    "\n",
    "for line in lines:\n",
    "    print(line)\n",
    "\n",
    "f.close()\n"
   ]
  },
  {
   "cell_type": "code",
   "execution_count": 18,
   "metadata": {},
   "outputs": [
    {
     "name": "stdout",
     "output_type": "stream",
     "text": [
      "     지점          일시  평균기온(°C)  최저기온(°C)  최고기온(°C)\n",
      "0   119  2019-10-01      22.0      15.7      27.4\n",
      "1   119  2019-10-02      21.9      20.4      23.8\n",
      "2   119  2019-10-03      22.8      19.9      27.8\n",
      "3   119  2019-10-04      21.9      17.8      26.9\n",
      "4   119  2019-10-05      18.9      15.7      22.0\n",
      "5   119  2019-10-06      18.0      14.0      22.0\n",
      "6   119  2019-10-07      14.8      13.4      17.9\n",
      "7   119  2019-10-08      15.0      10.7      20.6\n",
      "8   119  2019-10-09      12.8       6.4      19.6\n",
      "9   119  2019-10-10      14.9       9.5      20.2\n",
      "10  119  2019-10-11      18.8      12.1      24.8\n",
      "11  119  2019-10-12      18.3      14.1      23.3\n",
      "12  119  2019-10-13      16.9      12.5      22.9\n",
      "13  119  2019-10-14      14.0       8.5      19.4\n",
      "14  119  2019-10-15      13.3       7.3      19.6\n",
      "15  119  2019-10-16      13.9       7.9      20.0\n",
      "16  119  2019-10-17      14.6       9.1      20.6\n",
      "17  119  2019-10-18      16.7      10.0      21.9\n",
      "18  119  2019-10-19      16.0      10.4      22.2\n",
      "19  119  2019-10-20      15.1      10.8      21.7\n",
      "20  119  2019-10-21      16.1       9.5      23.9\n",
      "21  119  2019-10-22      16.6      11.1      23.0\n",
      "22  119  2019-10-23      17.0      12.4      20.0\n",
      "23  119  2019-10-24      18.6      14.1      23.3\n",
      "24  119  2019-10-25      16.6      10.7      21.7\n",
      "25  119  2019-10-26       9.8       6.4      13.9\n",
      "26  119  2019-10-27      10.2       3.0      16.8\n",
      "27  119  2019-10-28      12.4       6.3      17.4\n",
      "28  119  2019-10-29      12.6       8.2      18.1\n",
      "29  119  2019-10-30      10.3       3.3      17.1\n",
      "30  119  2019-10-31      14.1       7.3      20.4\n"
     ]
    },
    {
     "data": {
      "text/html": [
       "<div>\n",
       "<style scoped>\n",
       "    .dataframe tbody tr th:only-of-type {\n",
       "        vertical-align: middle;\n",
       "    }\n",
       "\n",
       "    .dataframe tbody tr th {\n",
       "        vertical-align: top;\n",
       "    }\n",
       "\n",
       "    .dataframe thead th {\n",
       "        text-align: right;\n",
       "    }\n",
       "</style>\n",
       "<table border=\"1\" class=\"dataframe\">\n",
       "  <thead>\n",
       "    <tr style=\"text-align: right;\">\n",
       "      <th></th>\n",
       "      <th>지점</th>\n",
       "      <th>일시</th>\n",
       "      <th>평균기온(°C)</th>\n",
       "      <th>최저기온(°C)</th>\n",
       "      <th>최고기온(°C)</th>\n",
       "    </tr>\n",
       "  </thead>\n",
       "  <tbody>\n",
       "    <tr>\n",
       "      <th>0</th>\n",
       "      <td>119</td>\n",
       "      <td>2019-10-01</td>\n",
       "      <td>22.0</td>\n",
       "      <td>15.7</td>\n",
       "      <td>27.4</td>\n",
       "    </tr>\n",
       "    <tr>\n",
       "      <th>1</th>\n",
       "      <td>119</td>\n",
       "      <td>2019-10-02</td>\n",
       "      <td>21.9</td>\n",
       "      <td>20.4</td>\n",
       "      <td>23.8</td>\n",
       "    </tr>\n",
       "    <tr>\n",
       "      <th>2</th>\n",
       "      <td>119</td>\n",
       "      <td>2019-10-03</td>\n",
       "      <td>22.8</td>\n",
       "      <td>19.9</td>\n",
       "      <td>27.8</td>\n",
       "    </tr>\n",
       "    <tr>\n",
       "      <th>3</th>\n",
       "      <td>119</td>\n",
       "      <td>2019-10-04</td>\n",
       "      <td>21.9</td>\n",
       "      <td>17.8</td>\n",
       "      <td>26.9</td>\n",
       "    </tr>\n",
       "    <tr>\n",
       "      <th>4</th>\n",
       "      <td>119</td>\n",
       "      <td>2019-10-05</td>\n",
       "      <td>18.9</td>\n",
       "      <td>15.7</td>\n",
       "      <td>22.0</td>\n",
       "    </tr>\n",
       "    <tr>\n",
       "      <th>5</th>\n",
       "      <td>119</td>\n",
       "      <td>2019-10-06</td>\n",
       "      <td>18.0</td>\n",
       "      <td>14.0</td>\n",
       "      <td>22.0</td>\n",
       "    </tr>\n",
       "    <tr>\n",
       "      <th>6</th>\n",
       "      <td>119</td>\n",
       "      <td>2019-10-07</td>\n",
       "      <td>14.8</td>\n",
       "      <td>13.4</td>\n",
       "      <td>17.9</td>\n",
       "    </tr>\n",
       "    <tr>\n",
       "      <th>7</th>\n",
       "      <td>119</td>\n",
       "      <td>2019-10-08</td>\n",
       "      <td>15.0</td>\n",
       "      <td>10.7</td>\n",
       "      <td>20.6</td>\n",
       "    </tr>\n",
       "    <tr>\n",
       "      <th>8</th>\n",
       "      <td>119</td>\n",
       "      <td>2019-10-09</td>\n",
       "      <td>12.8</td>\n",
       "      <td>6.4</td>\n",
       "      <td>19.6</td>\n",
       "    </tr>\n",
       "    <tr>\n",
       "      <th>9</th>\n",
       "      <td>119</td>\n",
       "      <td>2019-10-10</td>\n",
       "      <td>14.9</td>\n",
       "      <td>9.5</td>\n",
       "      <td>20.2</td>\n",
       "    </tr>\n",
       "    <tr>\n",
       "      <th>10</th>\n",
       "      <td>119</td>\n",
       "      <td>2019-10-11</td>\n",
       "      <td>18.8</td>\n",
       "      <td>12.1</td>\n",
       "      <td>24.8</td>\n",
       "    </tr>\n",
       "    <tr>\n",
       "      <th>11</th>\n",
       "      <td>119</td>\n",
       "      <td>2019-10-12</td>\n",
       "      <td>18.3</td>\n",
       "      <td>14.1</td>\n",
       "      <td>23.3</td>\n",
       "    </tr>\n",
       "    <tr>\n",
       "      <th>12</th>\n",
       "      <td>119</td>\n",
       "      <td>2019-10-13</td>\n",
       "      <td>16.9</td>\n",
       "      <td>12.5</td>\n",
       "      <td>22.9</td>\n",
       "    </tr>\n",
       "    <tr>\n",
       "      <th>13</th>\n",
       "      <td>119</td>\n",
       "      <td>2019-10-14</td>\n",
       "      <td>14.0</td>\n",
       "      <td>8.5</td>\n",
       "      <td>19.4</td>\n",
       "    </tr>\n",
       "    <tr>\n",
       "      <th>14</th>\n",
       "      <td>119</td>\n",
       "      <td>2019-10-15</td>\n",
       "      <td>13.3</td>\n",
       "      <td>7.3</td>\n",
       "      <td>19.6</td>\n",
       "    </tr>\n",
       "    <tr>\n",
       "      <th>15</th>\n",
       "      <td>119</td>\n",
       "      <td>2019-10-16</td>\n",
       "      <td>13.9</td>\n",
       "      <td>7.9</td>\n",
       "      <td>20.0</td>\n",
       "    </tr>\n",
       "    <tr>\n",
       "      <th>16</th>\n",
       "      <td>119</td>\n",
       "      <td>2019-10-17</td>\n",
       "      <td>14.6</td>\n",
       "      <td>9.1</td>\n",
       "      <td>20.6</td>\n",
       "    </tr>\n",
       "    <tr>\n",
       "      <th>17</th>\n",
       "      <td>119</td>\n",
       "      <td>2019-10-18</td>\n",
       "      <td>16.7</td>\n",
       "      <td>10.0</td>\n",
       "      <td>21.9</td>\n",
       "    </tr>\n",
       "    <tr>\n",
       "      <th>18</th>\n",
       "      <td>119</td>\n",
       "      <td>2019-10-19</td>\n",
       "      <td>16.0</td>\n",
       "      <td>10.4</td>\n",
       "      <td>22.2</td>\n",
       "    </tr>\n",
       "    <tr>\n",
       "      <th>19</th>\n",
       "      <td>119</td>\n",
       "      <td>2019-10-20</td>\n",
       "      <td>15.1</td>\n",
       "      <td>10.8</td>\n",
       "      <td>21.7</td>\n",
       "    </tr>\n",
       "    <tr>\n",
       "      <th>20</th>\n",
       "      <td>119</td>\n",
       "      <td>2019-10-21</td>\n",
       "      <td>16.1</td>\n",
       "      <td>9.5</td>\n",
       "      <td>23.9</td>\n",
       "    </tr>\n",
       "    <tr>\n",
       "      <th>21</th>\n",
       "      <td>119</td>\n",
       "      <td>2019-10-22</td>\n",
       "      <td>16.6</td>\n",
       "      <td>11.1</td>\n",
       "      <td>23.0</td>\n",
       "    </tr>\n",
       "    <tr>\n",
       "      <th>22</th>\n",
       "      <td>119</td>\n",
       "      <td>2019-10-23</td>\n",
       "      <td>17.0</td>\n",
       "      <td>12.4</td>\n",
       "      <td>20.0</td>\n",
       "    </tr>\n",
       "    <tr>\n",
       "      <th>23</th>\n",
       "      <td>119</td>\n",
       "      <td>2019-10-24</td>\n",
       "      <td>18.6</td>\n",
       "      <td>14.1</td>\n",
       "      <td>23.3</td>\n",
       "    </tr>\n",
       "    <tr>\n",
       "      <th>24</th>\n",
       "      <td>119</td>\n",
       "      <td>2019-10-25</td>\n",
       "      <td>16.6</td>\n",
       "      <td>10.7</td>\n",
       "      <td>21.7</td>\n",
       "    </tr>\n",
       "    <tr>\n",
       "      <th>25</th>\n",
       "      <td>119</td>\n",
       "      <td>2019-10-26</td>\n",
       "      <td>9.8</td>\n",
       "      <td>6.4</td>\n",
       "      <td>13.9</td>\n",
       "    </tr>\n",
       "    <tr>\n",
       "      <th>26</th>\n",
       "      <td>119</td>\n",
       "      <td>2019-10-27</td>\n",
       "      <td>10.2</td>\n",
       "      <td>3.0</td>\n",
       "      <td>16.8</td>\n",
       "    </tr>\n",
       "    <tr>\n",
       "      <th>27</th>\n",
       "      <td>119</td>\n",
       "      <td>2019-10-28</td>\n",
       "      <td>12.4</td>\n",
       "      <td>6.3</td>\n",
       "      <td>17.4</td>\n",
       "    </tr>\n",
       "    <tr>\n",
       "      <th>28</th>\n",
       "      <td>119</td>\n",
       "      <td>2019-10-29</td>\n",
       "      <td>12.6</td>\n",
       "      <td>8.2</td>\n",
       "      <td>18.1</td>\n",
       "    </tr>\n",
       "    <tr>\n",
       "      <th>29</th>\n",
       "      <td>119</td>\n",
       "      <td>2019-10-30</td>\n",
       "      <td>10.3</td>\n",
       "      <td>3.3</td>\n",
       "      <td>17.1</td>\n",
       "    </tr>\n",
       "    <tr>\n",
       "      <th>30</th>\n",
       "      <td>119</td>\n",
       "      <td>2019-10-31</td>\n",
       "      <td>14.1</td>\n",
       "      <td>7.3</td>\n",
       "      <td>20.4</td>\n",
       "    </tr>\n",
       "  </tbody>\n",
       "</table>\n",
       "</div>"
      ],
      "text/plain": [
       "     지점          일시  평균기온(°C)  최저기온(°C)  최고기온(°C)\n",
       "0   119  2019-10-01      22.0      15.7      27.4\n",
       "1   119  2019-10-02      21.9      20.4      23.8\n",
       "2   119  2019-10-03      22.8      19.9      27.8\n",
       "3   119  2019-10-04      21.9      17.8      26.9\n",
       "4   119  2019-10-05      18.9      15.7      22.0\n",
       "5   119  2019-10-06      18.0      14.0      22.0\n",
       "6   119  2019-10-07      14.8      13.4      17.9\n",
       "7   119  2019-10-08      15.0      10.7      20.6\n",
       "8   119  2019-10-09      12.8       6.4      19.6\n",
       "9   119  2019-10-10      14.9       9.5      20.2\n",
       "10  119  2019-10-11      18.8      12.1      24.8\n",
       "11  119  2019-10-12      18.3      14.1      23.3\n",
       "12  119  2019-10-13      16.9      12.5      22.9\n",
       "13  119  2019-10-14      14.0       8.5      19.4\n",
       "14  119  2019-10-15      13.3       7.3      19.6\n",
       "15  119  2019-10-16      13.9       7.9      20.0\n",
       "16  119  2019-10-17      14.6       9.1      20.6\n",
       "17  119  2019-10-18      16.7      10.0      21.9\n",
       "18  119  2019-10-19      16.0      10.4      22.2\n",
       "19  119  2019-10-20      15.1      10.8      21.7\n",
       "20  119  2019-10-21      16.1       9.5      23.9\n",
       "21  119  2019-10-22      16.6      11.1      23.0\n",
       "22  119  2019-10-23      17.0      12.4      20.0\n",
       "23  119  2019-10-24      18.6      14.1      23.3\n",
       "24  119  2019-10-25      16.6      10.7      21.7\n",
       "25  119  2019-10-26       9.8       6.4      13.9\n",
       "26  119  2019-10-27      10.2       3.0      16.8\n",
       "27  119  2019-10-28      12.4       6.3      17.4\n",
       "28  119  2019-10-29      12.6       8.2      18.1\n",
       "29  119  2019-10-30      10.3       3.3      17.1\n",
       "30  119  2019-10-31      14.1       7.3      20.4"
      ]
     },
     "metadata": {},
     "output_type": "display_data"
    }
   ],
   "source": [
    "# pandas 이용\n",
    "\n",
    "import pandas as pd\n",
    "\n",
    "df = pd.read_csv('month_temp.csv')\n",
    "print(df)\n",
    "\n",
    "display(df)"
   ]
  },
  {
   "cell_type": "code",
   "execution_count": 7,
   "metadata": {},
   "outputs": [
    {
     "data": {
      "text/html": [
       "<div>\n",
       "<style scoped>\n",
       "    .dataframe tbody tr th:only-of-type {\n",
       "        vertical-align: middle;\n",
       "    }\n",
       "\n",
       "    .dataframe tbody tr th {\n",
       "        vertical-align: top;\n",
       "    }\n",
       "\n",
       "    .dataframe thead th {\n",
       "        text-align: right;\n",
       "    }\n",
       "</style>\n",
       "<table border=\"1\" class=\"dataframe\">\n",
       "  <thead>\n",
       "    <tr style=\"text-align: right;\">\n",
       "      <th></th>\n",
       "      <th>Name</th>\n",
       "      <th>Location</th>\n",
       "      <th>Age</th>\n",
       "    </tr>\n",
       "  </thead>\n",
       "  <tbody>\n",
       "    <tr>\n",
       "      <th>0</th>\n",
       "      <td>John</td>\n",
       "      <td>New York</td>\n",
       "      <td>24</td>\n",
       "    </tr>\n",
       "    <tr>\n",
       "      <th>1</th>\n",
       "      <td>Anna</td>\n",
       "      <td>Paris</td>\n",
       "      <td>13</td>\n",
       "    </tr>\n",
       "    <tr>\n",
       "      <th>2</th>\n",
       "      <td>Peter</td>\n",
       "      <td>Berlin</td>\n",
       "      <td>53</td>\n",
       "    </tr>\n",
       "    <tr>\n",
       "      <th>3</th>\n",
       "      <td>Linda</td>\n",
       "      <td>London</td>\n",
       "      <td>33</td>\n",
       "    </tr>\n",
       "  </tbody>\n",
       "</table>\n",
       "</div>"
      ],
      "text/plain": [
       "    Name  Location  Age\n",
       "0   John  New York   24\n",
       "1   Anna     Paris   13\n",
       "2  Peter    Berlin   53\n",
       "3  Linda    London   33"
      ]
     },
     "metadata": {},
     "output_type": "display_data"
    }
   ],
   "source": [
    "# 파이썬 딕셔너리를 사용하여 DataFrame을 만드는 간단한 예제\n",
    "\n",
    "import pandas as pd\n",
    "\n",
    "# 딕셔너리 객체 생성\n",
    "data = {'Name' : ['John', 'Anna', 'Peter', 'Linda'],\n",
    "       'Location' : ['New York', 'Paris', 'Berlin', 'London'],\n",
    "       'Age' : [24, 13, 53, 33]}\n",
    "\n",
    "# 딕셔너리 객체를 이용하여 DataFrame 생성\n",
    "data_pandas = pd.DataFrame(data)\n",
    "\n",
    "display(data_pandas)"
   ]
  },
  {
   "cell_type": "markdown",
   "metadata": {},
   "source": [
    "#### 딕셔너리 (dict)\n",
    "- 키(key)와 값(value)의 쌍 형태로 데이터를 저장하는 객체\n",
    "\n",
    "- 키는 변경 불가능 객체만 사용 가능 \n",
    "  - 문자열, 숫자 등\n",
    "  - 리스트는 키로 사용 불가능\n",
    " \n",
    "- { 키1 : 값1, 키2 : 값2, ...}의 형태\n",
    "\n",
    "- {'Kim':'010-1234-5678', 'Park':'010-1234-5679', 'Lee':'010-1234-5680'}"
   ]
  },
  {
   "cell_type": "code",
   "execution_count": 6,
   "metadata": {},
   "outputs": [
    {
     "name": "stdout",
     "output_type": "stream",
     "text": [
      "<class 'dict'>\n",
      "{}\n"
     ]
    }
   ],
   "source": [
    "# 빈 딕셔너리\n",
    "a = {}\n",
    "print(type(a))\n",
    "print(a)"
   ]
  },
  {
   "cell_type": "code",
   "execution_count": 8,
   "metadata": {},
   "outputs": [
    {
     "name": "stdout",
     "output_type": "stream",
     "text": [
      "010-1234-5678\n"
     ]
    },
    {
     "ename": "KeyError",
     "evalue": "'Ko'",
     "output_type": "error",
     "traceback": [
      "\u001b[1;31m---------------------------------------------------------------------------\u001b[0m",
      "\u001b[1;31mKeyError\u001b[0m                                  Traceback (most recent call last)",
      "\u001b[1;32m<ipython-input-8-b281bf95caf5>\u001b[0m in \u001b[0;36m<module>\u001b[1;34m\u001b[0m\n\u001b[0;32m      7\u001b[0m \u001b[0mprint\u001b[0m\u001b[1;33m(\u001b[0m\u001b[0mcontacts\u001b[0m\u001b[1;33m.\u001b[0m\u001b[0mget\u001b[0m\u001b[1;33m(\u001b[0m\u001b[1;34m'Kim'\u001b[0m\u001b[1;33m)\u001b[0m\u001b[1;33m)\u001b[0m\u001b[1;33m\u001b[0m\u001b[1;33m\u001b[0m\u001b[0m\n\u001b[0;32m      8\u001b[0m \u001b[1;33m\u001b[0m\u001b[0m\n\u001b[1;32m----> 9\u001b[1;33m \u001b[0mcontacts\u001b[0m\u001b[1;33m[\u001b[0m\u001b[1;34m'Ko'\u001b[0m\u001b[1;33m]\u001b[0m\u001b[1;33m\u001b[0m\u001b[1;33m\u001b[0m\u001b[0m\n\u001b[0m",
      "\u001b[1;31mKeyError\u001b[0m: 'Ko'"
     ]
    }
   ],
   "source": [
    "# 항목 접근하기\n",
    "\n",
    "contacts = {'Kim':'010-1234-5678', 'Park':'010-1234-5679', 'Lee':'010-1234-5680'}\n",
    "\n",
    "print(contacts['Kim'])\n",
    "\n",
    "print(contacts.get('Kim'))\n",
    "\n",
    "contacts['Ko']"
   ]
  },
  {
   "cell_type": "code",
   "execution_count": 10,
   "metadata": {},
   "outputs": [
    {
     "name": "stdout",
     "output_type": "stream",
     "text": [
      "{'Kim': '010-1234-5678', 'Park': '010-1234-5679', 'Lee': '010-1234-5680', 'Choi': '010-5678-1234'}\n",
      "{'Lee': '010-1234-5680', 'Choi': '010-5678-1234'}\n"
     ]
    }
   ],
   "source": [
    "# 항목 추가, 삭제하기\n",
    "\n",
    "contacts['Choi'] = '010-5678-1234'\n",
    "print(contacts)\n",
    "\n",
    "contacts.pop('Kim')\n",
    "\n",
    "del contacts['Park']\n",
    "\n",
    "print(contacts)"
   ]
  },
  {
   "cell_type": "code",
   "execution_count": 12,
   "metadata": {},
   "outputs": [
    {
     "name": "stdout",
     "output_type": "stream",
     "text": [
      "('Korean', 80)\n",
      "('Math', 90)\n",
      "('English', 80)\n",
      "Korean\n",
      "Math\n",
      "English\n"
     ]
    }
   ],
   "source": [
    "# 항목 순회하기\n",
    "\n",
    "scores = {'Korean': 80, 'Math': 90, 'English': 80}\n",
    "\n",
    "for item in scores.items(): # items() 함수를 사용하면 키와 값 모두 읽을 수 있음\n",
    "    print(item)\n",
    "\n",
    "for item in scores: # 이 경우는 키만 읽을 수 있음\n",
    "    print(item)"
   ]
  },
  {
   "cell_type": "code",
   "execution_count": 23,
   "metadata": {},
   "outputs": [
    {
     "name": "stdout",
     "output_type": "stream",
     "text": [
      "{'A': 1, 'university': 1, 'is': 1, 'an': 1, 'institution': 1, 'of': 1, 'higher': 1, 'education': 1, 'and': 2, 'research': 1, 'which': 1, 'awards': 1, 'academic': 2, 'degrees': 1, 'in': 1, 'several': 1, 'disciplines.': 1, 'Universities': 1, 'typically': 1, 'offer': 1, 'both': 1, 'undergraduate': 1, 'postgraduate': 1, 'programs': 1}\n"
     ]
    }
   ],
   "source": [
    "# 딕셔너리 이용 예제\n",
    "# 단어 카운트 하기\n",
    "\n",
    "line = 'A university is an institution of higher education and research which awards academic degrees in several academic disciplines. Universities typically offer both undergraduate and postgraduate programs'\n",
    "\n",
    "words = line.split()\n",
    "\n",
    "table = dict()\n",
    "\n",
    "for word in words:\n",
    "        if word not in table: # word에 해당하는 키가 딕셔너리 table에 없으면\n",
    "            table[word] = 1 # 딕셔너리에 원소 추가. 키는 word 변수의 값, 값은 1\n",
    "        else:\n",
    "            table[word] += 1 # 딕셔너리 word에 해당하는 키의 값에 1을 더함\n",
    "\n",
    "print(table)\n"
   ]
  },
  {
   "cell_type": "markdown",
   "metadata": {},
   "source": [
    "### matplotlib\n",
    "\n",
    "- 파이썬의 대표적인 과학 계산용 그래프 라이브러리\n",
    "  - 그래프나 2차원 데이터 시각화를 생성: 선 그래프, 히스토그램, 산점도 등 \n",
    "  - 출판물에 필요한 그래프를 만드는 데 맞춰 설계됨\n",
    "  \n",
    "- 주피터 노트북에서 사용 할 때는 %matplotlib notebook 이나 %matplotlib inline 명령을 사용하면 브라우저에서 바로 이미지를 볼 수 있음\n"
   ]
  },
  {
   "cell_type": "code",
   "execution_count": 15,
   "metadata": {},
   "outputs": [
    {
     "data": {
      "text/plain": [
       "[<matplotlib.lines.Line2D at 0x1b926d74e10>]"
      ]
     },
     "execution_count": 15,
     "metadata": {},
     "output_type": "execute_result"
    },
    {
     "data": {
      "image/png": "[encoded data removed]",
      "text/plain": [
       "<Figure size 432x288 with 1 Axes>"
      ]
     },
     "metadata": {
      "needs_background": "light"
     },
     "output_type": "display_data"
    }
   ],
   "source": [
    "# matplotlib를 이용하여 그래프를 그리는 간단한 예\n",
    "\n",
    "%matplotlib inline\n",
    "\n",
    "import numpy as np\n",
    "import matplotlib.pyplot as plt\n",
    "\n",
    "# -10에서 10까지 100개의 간격으로 나뉜 배열을 생성\n",
    "x = np.linspace(-10, 10, 100)\n",
    "\n",
    "# sin 함수를 사용하여 y배열 생성\n",
    "y = np.sin(x)\n",
    "\n",
    "plt.plot(x, y, marker='x')"
   ]
  },
  {
   "cell_type": "code",
   "execution_count": 16,
   "metadata": {},
   "outputs": [
    {
     "name": "stdout",
     "output_type": "stream",
     "text": [
      "[-10.          -9.7979798   -9.5959596   -9.39393939  -9.19191919\n",
      "  -8.98989899  -8.78787879  -8.58585859  -8.38383838  -8.18181818\n",
      "  -7.97979798  -7.77777778  -7.57575758  -7.37373737  -7.17171717\n",
      "  -6.96969697  -6.76767677  -6.56565657  -6.36363636  -6.16161616\n",
      "  -5.95959596  -5.75757576  -5.55555556  -5.35353535  -5.15151515\n",
      "  -4.94949495  -4.74747475  -4.54545455  -4.34343434  -4.14141414\n",
      "  -3.93939394  -3.73737374  -3.53535354  -3.33333333  -3.13131313\n",
      "  -2.92929293  -2.72727273  -2.52525253  -2.32323232  -2.12121212\n",
      "  -1.91919192  -1.71717172  -1.51515152  -1.31313131  -1.11111111\n",
      "  -0.90909091  -0.70707071  -0.50505051  -0.3030303   -0.1010101\n",
      "   0.1010101    0.3030303    0.50505051   0.70707071   0.90909091\n",
      "   1.11111111   1.31313131   1.51515152   1.71717172   1.91919192\n",
      "   2.12121212   2.32323232   2.52525253   2.72727273   2.92929293\n",
      "   3.13131313   3.33333333   3.53535354   3.73737374   3.93939394\n",
      "   4.14141414   4.34343434   4.54545455   4.74747475   4.94949495\n",
      "   5.15151515   5.35353535   5.55555556   5.75757576   5.95959596\n",
      "   6.16161616   6.36363636   6.56565657   6.76767677   6.96969697\n",
      "   7.17171717   7.37373737   7.57575758   7.77777778   7.97979798\n",
      "   8.18181818   8.38383838   8.58585859   8.78787879   8.98989899\n",
      "   9.19191919   9.39393939   9.5959596    9.7979798   10.        ]\n",
      "[ 0.54402111  0.36459873  0.17034683 -0.03083368 -0.23076008 -0.42130064\n",
      " -0.59470541 -0.74392141 -0.86287948 -0.94674118 -0.99209556 -0.99709789\n",
      " -0.96154471 -0.8868821  -0.77614685 -0.63384295 -0.46575841 -0.27872982\n",
      " -0.0803643   0.12126992  0.31797166  0.50174037  0.66510151  0.80141062\n",
      "  0.90512352  0.97202182  0.99938456  0.98609877  0.93270486  0.84137452\n",
      "  0.7158225   0.56115544  0.38366419  0.19056796 -0.01027934 -0.21070855\n",
      " -0.40256749 -0.57805259 -0.73002623 -0.85230712 -0.93992165 -0.98930624\n",
      " -0.99845223 -0.96698762 -0.8961922  -0.78894546 -0.64960951 -0.48385164\n",
      " -0.2984138  -0.10083842  0.10083842  0.2984138   0.48385164  0.64960951\n",
      "  0.78894546  0.8961922   0.96698762  0.99845223  0.98930624  0.93992165\n",
      "  0.85230712  0.73002623  0.57805259  0.40256749  0.21070855  0.01027934\n",
      " -0.19056796 -0.38366419 -0.56115544 -0.7158225  -0.84137452 -0.93270486\n",
      " -0.98609877 -0.99938456 -0.97202182 -0.90512352 -0.80141062 -0.66510151\n",
      " -0.50174037 -0.31797166 -0.12126992  0.0803643   0.27872982  0.46575841\n",
      "  0.63384295  0.77614685  0.8868821   0.96154471  0.99709789  0.99209556\n",
      "  0.94674118  0.86287948  0.74392141  0.59470541  0.42130064  0.23076008\n",
      "  0.03083368 -0.17034683 -0.36459873 -0.54402111]\n"
     ]
    }
   ],
   "source": [
    "print(x)\n",
    "\n",
    "print(y)"
   ]
  },
  {
   "cell_type": "markdown",
   "metadata": {},
   "source": [
    "### SciPy\n",
    "\n",
    "- 과학 계산용 함수를 모아놓은 파이썬 패키지\n",
    "  - 고성능 선형 대수, 함수 최적화, 신호 처리, 특수한 수학 함수와 통계 분포 등을 포함한 많은 기능 제공\n",
    "- scikit-learn은 알고리즘을 구현할 때 SciPy의 여러 함수를 사용\n",
    "\n",
    "#### SciPy에 포함된 패키지 일부 소개\n",
    "- scipy.integrate\n",
    "  - 수치적분 루틴과 미분방정식 풀이법\n",
    "- scipy.linalg\n",
    "  - numpy.linalg에서 제공하는 것보다 더 확장된 선형대수 루틴과 매트릭스 분해\n",
    "- scipy.optimize\n",
    "  - 함수 최적화와 방정식의 근을 구하는 알고리즘\n",
    "- scipy.signal\n",
    "  - 시그널 프로세싱 도구\n",
    "- scipy.sparse\n",
    "  - 희소 행렬과 희소 선형 시스템 풀이법\n",
    "- scipy.stats\n",
    "  - 표준 연속/이산 확률 분포(밀도 함수, 샘플러, 연속 분포 함수)와 다양한 통계 테스트 "
   ]
  },
  {
   "cell_type": "code",
   "execution_count": 3,
   "metadata": {},
   "outputs": [
    {
     "name": "stdout",
     "output_type": "stream",
     "text": [
      "numpy array: \n",
      "[[1. 0. 0. 0. 0. 0. 0. 0. 0. 0. 0. 0. 0. 0. 0. 0. 0. 0. 0. 0.]\n",
      " [0. 1. 0. 0. 0. 0. 0. 0. 0. 0. 0. 0. 0. 0. 0. 0. 0. 0. 0. 0.]\n",
      " [0. 0. 1. 0. 0. 0. 0. 0. 0. 0. 0. 0. 0. 0. 0. 0. 0. 0. 0. 0.]\n",
      " [0. 0. 0. 1. 0. 0. 0. 0. 0. 0. 0. 0. 0. 0. 0. 0. 0. 0. 0. 0.]\n",
      " [0. 0. 0. 0. 1. 0. 0. 0. 0. 0. 0. 0. 0. 0. 0. 0. 0. 0. 0. 0.]\n",
      " [0. 0. 0. 0. 0. 1. 0. 0. 0. 0. 0. 0. 0. 0. 0. 0. 0. 0. 0. 0.]\n",
      " [0. 0. 0. 0. 0. 0. 1. 0. 0. 0. 0. 0. 0. 0. 0. 0. 0. 0. 0. 0.]\n",
      " [0. 0. 0. 0. 0. 0. 0. 1. 0. 0. 0. 0. 0. 0. 0. 0. 0. 0. 0. 0.]\n",
      " [0. 0. 0. 0. 0. 0. 0. 0. 1. 0. 0. 0. 0. 0. 0. 0. 0. 0. 0. 0.]\n",
      " [0. 0. 0. 0. 0. 0. 0. 0. 0. 1. 0. 0. 0. 0. 0. 0. 0. 0. 0. 0.]\n",
      " [0. 0. 0. 0. 0. 0. 0. 0. 0. 0. 1. 0. 0. 0. 0. 0. 0. 0. 0. 0.]\n",
      " [0. 0. 0. 0. 0. 0. 0. 0. 0. 0. 0. 1. 0. 0. 0. 0. 0. 0. 0. 0.]\n",
      " [0. 0. 0. 0. 0. 0. 0. 0. 0. 0. 0. 0. 1. 0. 0. 0. 0. 0. 0. 0.]\n",
      " [0. 0. 0. 0. 0. 0. 0. 0. 0. 0. 0. 0. 0. 1. 0. 0. 0. 0. 0. 0.]\n",
      " [0. 0. 0. 0. 0. 0. 0. 0. 0. 0. 0. 0. 0. 0. 1. 0. 0. 0. 0. 0.]\n",
      " [0. 0. 0. 0. 0. 0. 0. 0. 0. 0. 0. 0. 0. 0. 0. 1. 0. 0. 0. 0.]\n",
      " [0. 0. 0. 0. 0. 0. 0. 0. 0. 0. 0. 0. 0. 0. 0. 0. 1. 0. 0. 0.]\n",
      " [0. 0. 0. 0. 0. 0. 0. 0. 0. 0. 0. 0. 0. 0. 0. 0. 0. 1. 0. 0.]\n",
      " [0. 0. 0. 0. 0. 0. 0. 0. 0. 0. 0. 0. 0. 0. 0. 0. 0. 0. 1. 0.]\n",
      " [0. 0. 0. 0. 0. 0. 0. 0. 0. 0. 0. 0. 0. 0. 0. 0. 0. 0. 0. 1.]]\n"
     ]
    }
   ],
   "source": [
    "# sparse 사용 예제\n",
    "\n",
    "\n",
    "from scipy import sparse\n",
    "\n",
    "# 대각선 원소는 1이고 나머지는 0인 2차원 NumPy 배열을 만듦\n",
    "eye = np.eye(20) # 20행 20열 matrix\n",
    "print('numpy array: \\n{}'.format(eye))\n",
    "\n",
    "# 희소행렬\n",
    "# 대부분의 값이 '0'이므로 이를 그대로 사용할 경우 메모리 낭비가 심하고 또 연산시간도 오래 걸리는 단점\n"
   ]
  },
  {
   "cell_type": "code",
   "execution_count": 4,
   "metadata": {},
   "outputs": [
    {
     "name": "stdout",
     "output_type": "stream",
     "text": [
      "SciPy CSR matrx: \n",
      "  (0, 0)\t1.0\n",
      "  (1, 1)\t1.0\n",
      "  (2, 2)\t1.0\n",
      "  (3, 3)\t1.0\n",
      "  (4, 4)\t1.0\n",
      "  (5, 5)\t1.0\n",
      "  (6, 6)\t1.0\n",
      "  (7, 7)\t1.0\n",
      "  (8, 8)\t1.0\n",
      "  (9, 9)\t1.0\n",
      "  (10, 10)\t1.0\n",
      "  (11, 11)\t1.0\n",
      "  (12, 12)\t1.0\n",
      "  (13, 13)\t1.0\n",
      "  (14, 14)\t1.0\n",
      "  (15, 15)\t1.0\n",
      "  (16, 16)\t1.0\n",
      "  (17, 17)\t1.0\n",
      "  (18, 18)\t1.0\n",
      "  (19, 19)\t1.0\n"
     ]
    }
   ],
   "source": [
    "# NumPy 배열을 CSR 포맷의 SciPy 희소 행렬로 변환\n",
    "# 0이 아닌 원소만 저장하는 것\n",
    "# CSR (Compressed Sparse Row)\n",
    "\n",
    "sparse_matrix = sparse.csr_matrix(eye)\n",
    "print('SciPy CSR matrx: \\n{}'.format(sparse_matrix))\n"
   ]
  },
  {
   "cell_type": "markdown",
   "metadata": {},
   "source": [
    "### scikit-learn\n",
    "\n",
    "- 매우 인기가 높고 독보적인 파이썬 머신 러닝 라이브러리\n",
    "  - 처음 개발되기 시작한 2010년부터 파이썬 개발자를 위한 범용 머신러닝 도구로 자리 잡기 시작\n",
    "- 오픈소스, 자유롭게 사용하거나 배포할 수 있음\n",
    "- 다른 파이썬의 과학 패키지들과도 잘 연동\n",
    "- 파이썬 과학 라이브러리인 NumPy, SciPy를 기반으로 만들어짐\n",
    "\n",
    "\n",
    "#### 다음과 같은 모델의 하위 모델 포함\n",
    "- 분류: SVM, 최근접 이웃(kNN), 랜덤 포레스트, 로지스틱 회귀 등\n",
    "- 회귀: 라소, 리지 회귀 등\n",
    "- 클러스터링: k-평균, 스펙트럴 클러스터링 등\n",
    "- 차원 축소: PCA, 특징 선택, 행렬 인수분해 등\n",
    "- 모델 선택: 격자탐색, 교차검증 등\n",
    "- 전처리: 특징 추출, 정규화\n"
   ]
  },
  {
   "attachments": {},
   "cell_type": "markdown",
   "metadata": {},
   "source": [
    "#### 지도 학습 (Supervised learning)\n",
    "- 알고리즘에 주입하는 훈련 데이터에 레이블(label)이라는 답이 포함됨\n",
    "\n",
    "- 분류 (classification)\n",
    "  - 레이블에 여러 범주가 있고 주어진 데이터가 어느 범주에 속하는지 분류하는 것\n",
    "  - 예: 스팸 필터\n",
    "\n",
    "- 회귀 (regression)\n",
    "  - 예측 변수라 부르는 특성 (feature)를 사용해 중고차 가격 같은 타깃 수치를 예측하는 것\n",
    "\n",
    "- 대표적인 지도 학습 알고리즘\n",
    "  - k-최근접 이웃 (k-nearest neighbors)\n",
    "  - 서포트 벡터 머신 (support vector machine, SVM)\n",
    "  - 결정 트리 (decision tree), 랜덤 포레스트 (random forest)\n",
    "  - 신경망 (neural network)\n",
    "  - 선형 회귀 (linear regression)\n",
    "  - 로지스틱 회귀 (logistic regression)\n",
    "\n",
    "\n",
    "#### 비지도 학습 (Unsupervised learning)\n",
    "- 훈련 데이터에 레이블이 없음\n",
    "- 대표적인 비지도 학습 알고리즘\n",
    "  - 군집 (clustering): K-평균 (k-means clustering), 계층 군집 (hierarchical clustering)\n",
    "  - 시각화 (visualization)와 차원 축소 (dimensionality reduction): 주성분 분석 (principal component analysis, PCA)\n",
    "\n",
    "\n",
    "#### 강화 학습 (Reinforcement learning)\n",
    "- 에이전트가 환경을 관할해서 행동을 실행하고 그 결과로 보상 (또는 부정적인 보상에 해당하는 벌점)을 받음\n",
    "  - 에이전트: 학습하는 시스템\n",
    "- 시간이 지나면서 가장 큰 보상을 얻기 위해 정책이라고 부르는 최상의 전략을 스스로 학습함\n",
    "  - 정책은 주어진 상황에서 에이전트가 어떤 행동을 선택해야 할지 정의함\n"
   ]
  },
  {
   "cell_type": "code",
   "execution_count": null,
   "metadata": {},
   "outputs": [],
   "source": []
  }
 ],
 "metadata": {
  "kernelspec": {
   "display_name": "Python 3",
   "language": "python",
   "name": "python3"
  },
  "language_info": {
   "codemirror_mode": {
    "name": "ipython",
    "version": 3
   },
   "file_extension": ".py",
   "mimetype": "text/x-python",
   "name": "python",
   "nbconvert_exporter": "python",
   "pygments_lexer": "ipython3",
   "version": "3.6.10"
  }
 },
 "nbformat": 4,
 "nbformat_minor": 4
}
