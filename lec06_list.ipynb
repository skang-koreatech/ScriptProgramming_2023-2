{
 "cells": [
  {
   "cell_type": "markdown",
   "metadata": {},
   "source": [
    "- list input"
   ]
  },
  {
   "cell_type": "code",
   "execution_count": 1,
   "metadata": {},
   "outputs": [
    {
     "name": "stdout",
     "output_type": "stream",
     "text": [
      "한 행에 공백으로 구분된 숫자 10개를 입력하세요: 1 2 3 4 5 6 7 8 9 10\n",
      "[1, 2, 3, 4, 5, 6, 7, 8, 9, 10]\n"
     ]
    }
   ],
   "source": [
    "s = input(\"한 행에 공백으로 구분된 숫자 10개를 입력하세요: \")\n",
    "\n",
    "items = s.split()\n",
    "\n",
    "lst = [eval(x) for x in items]\n",
    "\n",
    "print(lst)"
   ]
  },
  {
   "cell_type": "markdown",
   "metadata": {},
   "source": [
    "- printList"
   ]
  },
  {
   "cell_type": "code",
   "execution_count": 2,
   "metadata": {},
   "outputs": [
    {
     "name": "stdout",
     "output_type": "stream",
     "text": [
      "1\n",
      "2\n",
      "3\n"
     ]
    }
   ],
   "source": [
    "def printList(lst):\n",
    "    for x in lst:\n",
    "        print(x)\n",
    "\n",
    "printList([1, 2, 3])"
   ]
  },
  {
   "cell_type": "markdown",
   "metadata": {},
   "source": [
    "- Pass list argument"
   ]
  },
  {
   "cell_type": "code",
   "execution_count": 3,
   "metadata": {},
   "outputs": [
    {
     "name": "stdout",
     "output_type": "stream",
     "text": [
      "x is 1\n",
      "y[0] is 5555\n"
     ]
    }
   ],
   "source": [
    "def main():\n",
    "    x = 1 # x는 int 변수이다.\n",
    "    y = [1, 2, 3] # y는 리스트이다.\n",
    "\n",
    "    m(x, y) # x, y 인자를 사용하여 m을 호출한다.\n",
    "\n",
    "    print(\"x is\", x)\n",
    "    print(\"y[0] is\", y[0])\n",
    "\n",
    "def m(number, numbers):\n",
    "    number = 1001 # number에 새로운 값을 할당한다.\n",
    "    numbers[0] = 5555 # number[0]에 새로운 값을 할당한다.\n",
    "\n",
    "main() # main 함수를 호출한다."
   ]
  },
  {
   "cell_type": "markdown",
   "metadata": {},
   "source": [
    "- Default list argument"
   ]
  },
  {
   "cell_type": "code",
   "execution_count": 4,
   "metadata": {},
   "outputs": [
    {
     "name": "stdout",
     "output_type": "stream",
     "text": [
      "[1]\n",
      "[1, 2]\n",
      "[11, 12, 13, 14, 3]\n",
      "[1, 2, 4]\n"
     ]
    }
   ],
   "source": [
    "def add(x, lst = []):\n",
    "    if x not in lst:\n",
    "        lst.append(x)\n",
    "\n",
    "    return lst\n",
    "\n",
    "def main():\n",
    "    list1 = add(1)\n",
    "    print(list1)\n",
    "\n",
    "    list2 = add(2)\n",
    "    print(list2)\n",
    "\n",
    "    list3 = add(3, [11, 12, 13, 14])\n",
    "    print(list3)\n",
    "\n",
    "    list4 = add(4)\n",
    "    print(list4)\n",
    "\n",
    "main()"
   ]
  },
  {
   "cell_type": "markdown",
   "metadata": {},
   "source": [
    "- Default none list argument"
   ]
  },
  {
   "cell_type": "code",
   "execution_count": 5,
   "metadata": {},
   "outputs": [
    {
     "name": "stdout",
     "output_type": "stream",
     "text": [
      "[1]\n",
      "[2]\n",
      "[11, 12, 13, 14, 3]\n",
      "[4]\n"
     ]
    }
   ],
   "source": [
    "def add(x, lst = None):\n",
    "    if lst == None:\n",
    "        lst = []\n",
    "    if not(x in lst):\n",
    "        lst.append(x)\n",
    "\n",
    "    return lst\n",
    "\n",
    "def main():\n",
    "    list1 = add(1)\n",
    "    print(list1)\n",
    "\n",
    "    list2 = add(2)\n",
    "    print(list2)\n",
    "\n",
    "    list3 = add(3, [11, 12, 13, 14])\n",
    "    print(list3)\n",
    "\n",
    "    list4 = add(4)\n",
    "    print(list4)\n",
    "\n",
    "main()"
   ]
  },
  {
   "cell_type": "markdown",
   "metadata": {},
   "source": [
    "- Two-dimensional list"
   ]
  },
  {
   "cell_type": "code",
   "execution_count": 7,
   "metadata": {},
   "outputs": [
    {
     "name": "stdout",
     "output_type": "stream",
     "text": [
      "1 2 3 \n",
      "4 5 6 \n",
      "7 8 9 \n"
     ]
    }
   ],
   "source": [
    "matrix = [[1, 2, 3], [4, 5, 6], [7, 8, 9]]\n",
    "\n",
    "for row in range(0, len(matrix)):\n",
    "    for column in range(0, len(matrix[row])):\n",
    "        print(matrix[row][column], end = ' ')\n",
    "    \n",
    "    print()\n"
   ]
  },
  {
   "cell_type": "markdown",
   "metadata": {},
   "source": [
    "- Sum of elements in a two-dimensional list"
   ]
  },
  {
   "cell_type": "code",
   "execution_count": null,
   "metadata": {},
   "outputs": [],
   "source": [
    "matrix = [[1, 2, 3], [4, 5, 6], [7, 8, 9]]\n",
    "\n",
    "total = 0\n",
    "\n",
    "for row in range(0, len(matrix)):\n",
    "    for column in range(0, len(matrix[row])):\n",
    "        total += matrix[row][column]\n",
    "\n",
    "print(\"Total is \" + str(total)) # 합계를 출력한다.\n"
   ]
  },
  {
   "cell_type": "markdown",
   "metadata": {},
   "source": [
    "- Pass a two-dimensional list"
   ]
  },
  {
   "cell_type": "code",
   "execution_count": 8,
   "metadata": {},
   "outputs": [
    {
     "name": "stdout",
     "output_type": "stream",
     "text": [
      "행의 개수를 입력하세요: 3\n",
      "열의 개수를 입력하세요: 3\n",
      "값을 입력하고 엔터를 누르세요: 1\n",
      "값을 입력하고 엔터를 누르세요: 2\n",
      "값을 입력하고 엔터를 누르세요: 3\n",
      "값을 입력하고 엔터를 누르세요: 4\n",
      "값을 입력하고 엔터를 누르세요: 5\n",
      "값을 입력하고 엔터를 누르세요: 6\n",
      "값을 입력하고 엔터를 누르세요: 7\n",
      "값을 입력하고 엔터를 누르세요: 8\n",
      "값을 입력하고 엔터를 누르세요: 9\n",
      "[[1, 2, 3], [4, 5, 6], [7, 8, 9]]\n",
      "\n",
      "모든 원소의 총 합은 45 입니다.\n"
     ]
    }
   ],
   "source": [
    "def getMatrix():\n",
    "    matrix = [] # 비어있는 리스트를 생성한다.\n",
    "\n",
    "    numberOfRows = eval(input(\"행의 개수를 입력하세요: \"))\n",
    "    numberOfColumns = eval(input(\"열의 개수를 입력하세요: \"))\n",
    "    \n",
    "    for row in range(numberOfRows):\n",
    "        matrix.append([]) # 새로운 공백을 추가한다.\n",
    "        \n",
    "        for column in range(numberOfColumns):\n",
    "            value = eval(input(\"값을 입력하고 엔터를 누르세요: \"))\n",
    "            matrix[row].append(value)\n",
    "\n",
    "    return matrix\n",
    "\n",
    "def accumulate(m):\n",
    "    total = 0\n",
    "    \n",
    "    for row in m:\n",
    "        total += sum(row)\n",
    "\n",
    "    return total\n",
    "\n",
    "def main():\n",
    "    m = getMatrix() # 리스트를 가져온다.\n",
    "    print(m)\n",
    "\n",
    "    # 원소의 합계를 출력한다.\n",
    "    print(\"\\n모든 원소의 총 합은\", accumulate(m), \"입니다.\")\n",
    "\n",
    "main() # main 함수를 호출한다."
   ]
  },
  {
   "cell_type": "code",
   "execution_count": null,
   "metadata": {},
   "outputs": [],
   "source": []
  }
 ],
 "metadata": {
  "kernelspec": {
   "display_name": "Python 3",
   "language": "python",
   "name": "python3"
  },
  "language_info": {
   "codemirror_mode": {
    "name": "ipython",
    "version": 3
   },
   "file_extension": ".py",
   "mimetype": "text/x-python",
   "name": "python",
   "nbconvert_exporter": "python",
   "pygments_lexer": "ipython3",
   "version": "3.8.5"
  }
 },
 "nbformat": 4,
 "nbformat_minor": 4
}
