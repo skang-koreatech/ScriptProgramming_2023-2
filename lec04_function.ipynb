{
 "cells": [
  {
   "cell_type": "markdown",
   "metadata": {},
   "source": [
    "- Function"
   ]
  },
  {
   "cell_type": "code",
   "execution_count": 1,
   "metadata": {},
   "outputs": [
    {
     "name": "stdout",
     "output_type": "stream",
     "text": [
      "1부터 10까지의 합은 45\n",
      "20부터 37까지의 합은 476\n",
      "35부터 49까지의 합은 581\n"
     ]
    }
   ],
   "source": [
    "def sum(i1, i2):\n",
    "    result = 0\n",
    "    for i in range(i1, i2):\n",
    "        result += i\n",
    "    return result\n",
    "\n",
    "def main():\n",
    "    print(\"1부터 10까지의 합은\", sum(1, 10))\n",
    "    print(\"20부터 37까지의 합은\", sum(20, 37))\n",
    "    print(\"35부터 49까지의 합은\", sum(35, 49))\n",
    "    \n",
    "main() # main 함수를 호출한다."
   ]
  },
  {
   "cell_type": "markdown",
   "metadata": {},
   "source": [
    "- 두 수 중에서 큰 수를 반환하는 함수"
   ]
  },
  {
   "cell_type": "code",
   "execution_count": 2,
   "metadata": {},
   "outputs": [
    {
     "name": "stdout",
     "output_type": "stream",
     "text": [
      "5 와/과 2 중에서 큰 수는 5 입니다.\n"
     ]
    }
   ],
   "source": [
    "# 두 수 중에서 큰 수를 반환한다.\n",
    "def max(num1, num2):\n",
    "    if num1 > num2:\n",
    "        result = num1\n",
    "    else:\n",
    "        result = num2\n",
    "\n",
    "    return result\n",
    "\n",
    "def main():\n",
    "   i = 5\n",
    "   j = 2\n",
    "   k = max(i, j) # max 함수를 호출한다.\n",
    "   print(i, \"와/과\", j, \"중에서 큰 수는\", k, \"입니다.\")\n",
    "\n",
    "main() # main 함수를 호출한다."
   ]
  },
  {
   "cell_type": "markdown",
   "metadata": {},
   "source": [
    "- 함수의 반환값"
   ]
  },
  {
   "cell_type": "code",
   "execution_count": 3,
   "metadata": {},
   "outputs": [
    {
     "name": "stdout",
     "output_type": "stream",
     "text": [
      "점수를 입력하세요: -5\n",
      "성적은 잘못된 점수.\n",
      "입니다.\n"
     ]
    }
   ],
   "source": [
    "# 점수에 대한 성적을 출력한다.\n",
    "def printGrade(score):\n",
    "    if (score < 0 or score > 100):\n",
    "        print(\"잘못된 점수.\")\n",
    "        return\n",
    "    \n",
    "    if score >= 90.0:\n",
    "        print('A')\n",
    "    elif score >= 80.0:\n",
    "        print('B')\n",
    "    elif score >= 70.0:\n",
    "        print('C')\n",
    "    elif score >= 60.0:\n",
    "        print('D')\n",
    "    else:\n",
    "        print('F')\n",
    "\n",
    "def main():\n",
    "    score = eval(input(\"점수를 입력하세요: \"))\n",
    "    print(\"성적은\", end = \" \")\n",
    "    printGrade(score)\n",
    "    print(\"입니다.\")\n",
    "\n",
    "main() # main 함수를 호출한다."
   ]
  },
  {
   "cell_type": "markdown",
   "metadata": {},
   "source": [
    "- 위치 인자와 키워드 인자"
   ]
  },
  {
   "cell_type": "code",
   "execution_count": 4,
   "metadata": {},
   "outputs": [
    {
     "name": "stdout",
     "output_type": "stream",
     "text": [
      "welcome to python\n",
      "welcome to python\n",
      "welcome to python\n",
      "welcome to python\n",
      "welcome to python\n",
      "welcome\n",
      "welcome\n",
      "welcome\n"
     ]
    },
    {
     "ename": "TypeError",
     "evalue": "'str' object cannot be interpreted as an integer",
     "output_type": "error",
     "traceback": [
      "\u001b[1;31m---------------------------------------------------------------------------\u001b[0m",
      "\u001b[1;31mTypeError\u001b[0m                                 Traceback (most recent call last)",
      "\u001b[1;32m<ipython-input-4-53d38e55963c>\u001b[0m in \u001b[0;36m<module>\u001b[1;34m\u001b[0m\n\u001b[0;32m      4\u001b[0m \u001b[0mnPrintln\u001b[0m\u001b[1;33m(\u001b[0m\u001b[1;34m\"welcome to python\"\u001b[0m\u001b[1;33m,\u001b[0m \u001b[1;36m5\u001b[0m\u001b[1;33m)\u001b[0m\u001b[1;33m\u001b[0m\u001b[1;33m\u001b[0m\u001b[0m\n\u001b[0;32m      5\u001b[0m \u001b[0mnPrintln\u001b[0m\u001b[1;33m(\u001b[0m\u001b[0mn\u001b[0m \u001b[1;33m=\u001b[0m \u001b[1;36m3\u001b[0m\u001b[1;33m,\u001b[0m \u001b[0mmessage\u001b[0m \u001b[1;33m=\u001b[0m \u001b[1;34m\"welcome\"\u001b[0m\u001b[1;33m)\u001b[0m\u001b[1;33m\u001b[0m\u001b[1;33m\u001b[0m\u001b[0m\n\u001b[1;32m----> 6\u001b[1;33m \u001b[0mnPrintln\u001b[0m\u001b[1;33m(\u001b[0m\u001b[1;36m4\u001b[0m\u001b[1;33m,\u001b[0m \u001b[1;34m\"welcome to world\"\u001b[0m\u001b[1;33m)\u001b[0m\u001b[1;33m\u001b[0m\u001b[1;33m\u001b[0m\u001b[0m\n\u001b[0m",
      "\u001b[1;32m<ipython-input-4-53d38e55963c>\u001b[0m in \u001b[0;36mnPrintln\u001b[1;34m(message, n)\u001b[0m\n\u001b[0;32m      1\u001b[0m \u001b[1;32mdef\u001b[0m \u001b[0mnPrintln\u001b[0m\u001b[1;33m(\u001b[0m\u001b[0mmessage\u001b[0m\u001b[1;33m,\u001b[0m \u001b[0mn\u001b[0m\u001b[1;33m)\u001b[0m\u001b[1;33m:\u001b[0m\u001b[1;33m\u001b[0m\u001b[1;33m\u001b[0m\u001b[0m\n\u001b[1;32m----> 2\u001b[1;33m     \u001b[1;32mfor\u001b[0m \u001b[0mi\u001b[0m \u001b[1;32min\u001b[0m \u001b[0mrange\u001b[0m\u001b[1;33m(\u001b[0m\u001b[1;36m0\u001b[0m\u001b[1;33m,\u001b[0m \u001b[0mn\u001b[0m\u001b[1;33m)\u001b[0m\u001b[1;33m:\u001b[0m\u001b[1;33m\u001b[0m\u001b[1;33m\u001b[0m\u001b[0m\n\u001b[0m\u001b[0;32m      3\u001b[0m         \u001b[0mprint\u001b[0m\u001b[1;33m(\u001b[0m\u001b[0mmessage\u001b[0m\u001b[1;33m)\u001b[0m\u001b[1;33m\u001b[0m\u001b[1;33m\u001b[0m\u001b[0m\n\u001b[0;32m      4\u001b[0m \u001b[0mnPrintln\u001b[0m\u001b[1;33m(\u001b[0m\u001b[1;34m\"welcome to python\"\u001b[0m\u001b[1;33m,\u001b[0m \u001b[1;36m5\u001b[0m\u001b[1;33m)\u001b[0m\u001b[1;33m\u001b[0m\u001b[1;33m\u001b[0m\u001b[0m\n\u001b[0;32m      5\u001b[0m \u001b[0mnPrintln\u001b[0m\u001b[1;33m(\u001b[0m\u001b[0mn\u001b[0m \u001b[1;33m=\u001b[0m \u001b[1;36m3\u001b[0m\u001b[1;33m,\u001b[0m \u001b[0mmessage\u001b[0m \u001b[1;33m=\u001b[0m \u001b[1;34m\"welcome\"\u001b[0m\u001b[1;33m)\u001b[0m\u001b[1;33m\u001b[0m\u001b[1;33m\u001b[0m\u001b[0m\n",
      "\u001b[1;31mTypeError\u001b[0m: 'str' object cannot be interpreted as an integer"
     ]
    }
   ],
   "source": [
    "def nPrintln(message, n):\n",
    "    for i in range(0, n):\n",
    "        print(message)\n",
    "nPrintln(\"welcome to python\", 5)\n",
    "nPrintln(n = 3, message = \"welcome\")\n",
    "nPrintln(4, \"welcome to world\")"
   ]
  },
  {
   "cell_type": "markdown",
   "metadata": {},
   "source": [
    "- 변수 스코프"
   ]
  },
  {
   "cell_type": "code",
   "execution_count": 8,
   "metadata": {},
   "outputs": [
    {
     "name": "stdout",
     "output_type": "stream",
     "text": [
      "1\n",
      "2\n",
      "1\n"
     ]
    },
    {
     "ename": "NameError",
     "evalue": "name 'localVar' is not defined",
     "output_type": "error",
     "traceback": [
      "\u001b[1;31m---------------------------------------------------------------------------\u001b[0m",
      "\u001b[1;31mNameError\u001b[0m                                 Traceback (most recent call last)",
      "\u001b[1;32m<ipython-input-8-c34e36b27c49>\u001b[0m in \u001b[0;36m<module>\u001b[1;34m\u001b[0m\n\u001b[0;32m      8\u001b[0m \u001b[0mf1\u001b[0m\u001b[1;33m(\u001b[0m\u001b[1;33m)\u001b[0m\u001b[1;33m\u001b[0m\u001b[1;33m\u001b[0m\u001b[0m\n\u001b[0;32m      9\u001b[0m \u001b[0mprint\u001b[0m\u001b[1;33m(\u001b[0m\u001b[0mglobalVar\u001b[0m\u001b[1;33m)\u001b[0m\u001b[1;33m\u001b[0m\u001b[1;33m\u001b[0m\u001b[0m\n\u001b[1;32m---> 10\u001b[1;33m \u001b[0mprint\u001b[0m\u001b[1;33m(\u001b[0m\u001b[0mlocalVar\u001b[0m\u001b[1;33m)\u001b[0m\u001b[1;33m\u001b[0m\u001b[1;33m\u001b[0m\u001b[0m\n\u001b[0m",
      "\u001b[1;31mNameError\u001b[0m: name 'localVar' is not defined"
     ]
    }
   ],
   "source": [
    "globalVar = 1\n",
    "\n",
    "def f1():\n",
    "    localVar = 2\n",
    "    print(globalVar)\n",
    "    print(localVar)\n",
    "\n",
    "f1()\n",
    "print(globalVar)\n",
    "print(localVar)"
   ]
  },
  {
   "cell_type": "code",
   "execution_count": 9,
   "metadata": {},
   "outputs": [
    {
     "name": "stdout",
     "output_type": "stream",
     "text": [
      "2\n",
      "1\n"
     ]
    }
   ],
   "source": [
    "x = 1\n",
    "\n",
    "def f1():\n",
    "    x = 2\n",
    "    print(x)\n",
    "\n",
    "f1()\n",
    "print(x)"
   ]
  },
  {
   "cell_type": "code",
   "execution_count": 16,
   "metadata": {},
   "outputs": [
    {
     "name": "stdout",
     "output_type": "stream",
     "text": [
      "2\n",
      "2\n"
     ]
    }
   ],
   "source": [
    "x = 1\n",
    "\n",
    "def increase():\n",
    "    global x\n",
    "    x = x + 1\n",
    "    print(x)\n",
    "    \n",
    "increase()\n",
    "print(x)"
   ]
  },
  {
   "cell_type": "code",
   "execution_count": 13,
   "metadata": {},
   "outputs": [
    {
     "name": "stdout",
     "output_type": "stream",
     "text": [
      "숫자를 입력하세요: 5\n",
      "4\n"
     ]
    }
   ],
   "source": [
    "x = eval(input('숫자를 입력하세요: '))\n",
    "\n",
    "if (x > 0):\n",
    "    y = 4\n",
    "\n",
    "print(y)"
   ]
  },
  {
   "cell_type": "code",
   "execution_count": 12,
   "metadata": {},
   "outputs": [
    {
     "name": "stdout",
     "output_type": "stream",
     "text": [
      "숫자를 입력하세요: -1\n"
     ]
    },
    {
     "ename": "NameError",
     "evalue": "name 'z' is not defined",
     "output_type": "error",
     "traceback": [
      "\u001b[1;31m---------------------------------------------------------------------------\u001b[0m",
      "\u001b[1;31mNameError\u001b[0m                                 Traceback (most recent call last)",
      "\u001b[1;32m<ipython-input-12-0fc3ec1a925b>\u001b[0m in \u001b[0;36m<module>\u001b[1;34m\u001b[0m\n\u001b[0;32m      4\u001b[0m     \u001b[0mz\u001b[0m \u001b[1;33m=\u001b[0m \u001b[1;36m4\u001b[0m\u001b[1;33m\u001b[0m\u001b[1;33m\u001b[0m\u001b[0m\n\u001b[0;32m      5\u001b[0m \u001b[1;33m\u001b[0m\u001b[0m\n\u001b[1;32m----> 6\u001b[1;33m \u001b[0mprint\u001b[0m\u001b[1;33m(\u001b[0m\u001b[0mz\u001b[0m\u001b[1;33m)\u001b[0m\u001b[1;33m\u001b[0m\u001b[1;33m\u001b[0m\u001b[0m\n\u001b[0m",
      "\u001b[1;31mNameError\u001b[0m: name 'z' is not defined"
     ]
    }
   ],
   "source": [
    "x = eval(input('숫자를 입력하세요: '))\n",
    "\n",
    "if (x > 0):\n",
    "    z = 4\n",
    "\n",
    "print(z)"
   ]
  },
  {
   "cell_type": "markdown",
   "metadata": {},
   "source": [
    "- 기본 인자"
   ]
  },
  {
   "cell_type": "code",
   "execution_count": 17,
   "metadata": {},
   "outputs": [
    {
     "name": "stdout",
     "output_type": "stream",
     "text": [
      "폭: 1 \t높이: 2 \t넓이: 2\n",
      "폭: 4 \t높이: 2.5 \t넓이: 10.0\n",
      "폭: 3 \t높이: 5 \t넓이: 15\n",
      "폭: 1.2 \t높이: 2 \t넓이: 2.4\n",
      "폭: 1 \t높이: 6.2 \t넓이: 6.2\n"
     ]
    }
   ],
   "source": [
    "def printArea(width = 1, height = 2):\n",
    "    area = width * height\n",
    "    print(\"폭:\", width, \"\\t높이:\", height, \"\\t넓이:\", area)\n",
    "\n",
    "printArea() # 기본 인자 값으로 width = 1이고 height = 2이다.\n",
    "printArea(4, 2.5) # 위치 인자 값으로 width = 4이고 height = 2.5이다.\n",
    "printArea(height = 5, width = 3) # 키워드 인자가 사용된다.\n",
    "printArea(width = 1.2) # 기본 인자 값으로 height = 2이다.\n",
    "printArea(height = 6.2) # 기본 인자 값으로 widht = 1이다."
   ]
  },
  {
   "cell_type": "markdown",
   "metadata": {},
   "source": [
    "- 다중값 반환"
   ]
  },
  {
   "cell_type": "code",
   "execution_count": 18,
   "metadata": {},
   "outputs": [
    {
     "name": "stdout",
     "output_type": "stream",
     "text": [
      "n1은 2 입니다.\n",
      "n2는 3 입니다.\n"
     ]
    }
   ],
   "source": [
    "def sort(number1, number2):\n",
    "    if number1 < number2:\n",
    "        return number1, number2\n",
    "    else:\n",
    "        return number2, number1\n",
    "\n",
    "n1, n2 = sort(3, 2)\n",
    "print(\"n1은\", n1, \"입니다.\")\n",
    "print(\"n2는\", n2, \"입니다.\")"
   ]
  },
  {
   "cell_type": "markdown",
   "metadata": {},
   "source": [
    "- 코드 모듈화 하기"
   ]
  },
  {
   "cell_type": "markdown",
   "metadata": {},
   "source": [
    "##### GCDFunction.py"
   ]
  },
  {
   "cell_type": "code",
   "execution_count": 5,
   "metadata": {},
   "outputs": [],
   "source": [
    "# 두 정수의 최대공약수(gcd)를 반환한다.\n",
    "def gcd(n1, n2):\n",
    "    gcd = 1 # gcd의 초깃값은 1이다.\n",
    "    k = 2   # 가능한 gcd\n",
    "\n",
    "    while k <= n1 and k <= n2:\n",
    "        if n1 % k == 0 and n2 % k == 0:\n",
    "            gcd = k # gcd를 갱신한다.\n",
    "        k += 1\n",
    "\n",
    "    return gcd # gcd를 반환한다.\n",
    "\n",
    "def sum(n1, n2):\n",
    "    return n1 + n2\n",
    "\n",
    "def mul(n1, n2):\n",
    "    return n1 * n2"
   ]
  },
  {
   "cell_type": "code",
   "execution_count": null,
   "metadata": {},
   "outputs": [],
   "source": [
    "#from GCDFunction import gcd # gcd 함수를 임포트한다.\n",
    "#import GCDFunction\n",
    "from GCDFunction import gcd, sum\n",
    "#from GCDFunction import *\n",
    "\n",
    "# 사용자로부터 두 정수를 입력받는다.\n",
    "n1 = eval(input(\"첫 번째 정수를 입력하세요: \"))\n",
    "n2 = eval(input(\"두 번째 정수를 입력하세요: \"))\n",
    "\n",
    "#print(n1, \"와/과\", n2, \"의 최대공약수는\", gcd(n1, n2), \"입니다.\")\n",
    "#print(n1, \"와/과\", n2, \"의 최대공약수는\", GCDFunction.gcd(n1, n2), \"입니다.\")\n",
    "print(n1, \"와/과\", n2, \"의 최대공약수는\", gcd(n1, n2), \"입니다.\")\n",
    "print(n1, \"와/과\", n2, \"의 합\", sum(n1, n2), \"입니다.\")"
   ]
  },
  {
   "cell_type": "code",
   "execution_count": null,
   "metadata": {},
   "outputs": [],
   "source": []
  }
 ],
 "metadata": {
  "kernelspec": {
   "display_name": "Python 3",
   "language": "python",
   "name": "python3"
  },
  "language_info": {
   "codemirror_mode": {
    "name": "ipython",
    "version": 3
   },
   "file_extension": ".py",
   "mimetype": "text/x-python",
   "name": "python",
   "nbconvert_exporter": "python",
   "pygments_lexer": "ipython3",
   "version": "3.8.5"
  }
 },
 "nbformat": 4,
 "nbformat_minor": 4
}
